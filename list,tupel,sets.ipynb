{
 "cells": [
  {
   "cell_type": "code",
   "execution_count": 1,
   "id": "f86731d8-0007-4d94-92de-2f0a43717b16",
   "metadata": {},
   "outputs": [],
   "source": [
    "s = [1,2,3, 2+3j, True, False, \"Suraj\", \"Shanu\", 325]"
   ]
  },
  {
   "cell_type": "code",
   "execution_count": 2,
   "id": "78763cfc-f39b-4135-88b7-550035bf16a9",
   "metadata": {},
   "outputs": [
    {
     "data": {
      "text/plain": [
       "[1, 2, 3, (2+3j), True, False, 'Suraj', 'Shanu', 325]"
      ]
     },
     "execution_count": 2,
     "metadata": {},
     "output_type": "execute_result"
    }
   ],
   "source": [
    "s"
   ]
  },
  {
   "cell_type": "code",
   "execution_count": 3,
   "id": "1aa156aa-ea35-498c-9512-74c2c46def63",
   "metadata": {},
   "outputs": [
    {
     "data": {
      "text/plain": [
       "list"
      ]
     },
     "execution_count": 3,
     "metadata": {},
     "output_type": "execute_result"
    }
   ],
   "source": [
    "type(s)"
   ]
  },
  {
   "cell_type": "code",
   "execution_count": 4,
   "id": "3a537214-1af2-4bec-8772-35c0c3388f63",
   "metadata": {},
   "outputs": [],
   "source": [
    "y = {1,2,3, 2+3j, True, False, \"Suraj\", \"Shanu\", 325}"
   ]
  },
  {
   "cell_type": "code",
   "execution_count": 5,
   "id": "42741639-18ca-41d1-9f02-b79ad2a83691",
   "metadata": {},
   "outputs": [
    {
     "data": {
      "text/plain": [
       "set"
      ]
     },
     "execution_count": 5,
     "metadata": {},
     "output_type": "execute_result"
    }
   ],
   "source": [
    "type(y)"
   ]
  },
  {
   "cell_type": "code",
   "execution_count": 6,
   "id": "ecbc1877-2bfe-4449-a3e1-578736ad86ad",
   "metadata": {},
   "outputs": [],
   "source": [
    "z = [1,2,3]"
   ]
  },
  {
   "cell_type": "code",
   "execution_count": 7,
   "id": "d849d307-ac27-47a6-84e0-4697cd833d83",
   "metadata": {},
   "outputs": [
    {
     "data": {
      "text/plain": [
       "list"
      ]
     },
     "execution_count": 7,
     "metadata": {},
     "output_type": "execute_result"
    }
   ],
   "source": [
    "type(z)"
   ]
  },
  {
   "cell_type": "code",
   "execution_count": 8,
   "id": "eb0ce22d-01ea-4fac-a856-cb1dece39d51",
   "metadata": {},
   "outputs": [],
   "source": [
    "z.sort()"
   ]
  },
  {
   "cell_type": "code",
   "execution_count": 9,
   "id": "291bd60e-5eb0-4c73-8879-2cfcf795795a",
   "metadata": {},
   "outputs": [
    {
     "data": {
      "text/plain": [
       "[325, 'Shanu', 'Suraj', False, True, (2+3j), 3, 2, 1]"
      ]
     },
     "execution_count": 9,
     "metadata": {},
     "output_type": "execute_result"
    }
   ],
   "source": [
    "s[::-1]"
   ]
  },
  {
   "cell_type": "code",
   "execution_count": 10,
   "id": "8196aa34-b887-4f08-bd3f-0a8bfce630c2",
   "metadata": {},
   "outputs": [
    {
     "data": {
      "text/plain": [
       "[2, (2+3j), False, 'Shanu']"
      ]
     },
     "execution_count": 10,
     "metadata": {},
     "output_type": "execute_result"
    }
   ],
   "source": [
    "s[1::2]"
   ]
  },
  {
   "cell_type": "code",
   "execution_count": 11,
   "id": "037be643-7170-4f7c-86f3-e210c72630d9",
   "metadata": {},
   "outputs": [
    {
     "data": {
      "text/plain": [
       "[2, (2+3j), False, 'Shanu']"
      ]
     },
     "execution_count": 11,
     "metadata": {},
     "output_type": "execute_result"
    }
   ],
   "source": [
    "s[1::2]\n"
   ]
  },
  {
   "cell_type": "code",
   "execution_count": 12,
   "id": "a396510d-5b50-4076-b0e6-4d4a722ad5c4",
   "metadata": {},
   "outputs": [
    {
     "data": {
      "text/plain": [
       "[1, 2, 3, (2+3j), True, False, 'Suraj', 'Shanu', 325]"
      ]
     },
     "execution_count": 12,
     "metadata": {},
     "output_type": "execute_result"
    }
   ],
   "source": [
    "s"
   ]
  },
  {
   "cell_type": "code",
   "execution_count": 13,
   "id": "4170e72e-0fe0-4ad5-81a6-0be8671f667c",
   "metadata": {},
   "outputs": [],
   "source": [
    "d = [\"s\",5,6,450]"
   ]
  },
  {
   "cell_type": "code",
   "execution_count": 14,
   "id": "b8862f76-f120-41a8-b2ae-ce4b3454de72",
   "metadata": {},
   "outputs": [
    {
     "data": {
      "text/plain": [
       "[1, 2, 3, (2+3j), True, False, 'Suraj', 'Shanu', 325, 's', 5, 6, 450]"
      ]
     },
     "execution_count": 14,
     "metadata": {},
     "output_type": "execute_result"
    }
   ],
   "source": [
    "s+d"
   ]
  },
  {
   "cell_type": "code",
   "execution_count": 15,
   "id": "0b0c760f-1d44-4c65-bc91-70d43e421ec5",
   "metadata": {},
   "outputs": [],
   "source": [
    "v = [1,2,3,4,5,6,7,8,9]"
   ]
  },
  {
   "cell_type": "code",
   "execution_count": 16,
   "id": "1e24c1d1-622b-45b0-b970-1c9e453d8d79",
   "metadata": {},
   "outputs": [
    {
     "data": {
      "text/plain": [
       "[1, 2, 3, (2+3j), True, False, 'Suraj', 'Shanu', 325, 1]"
      ]
     },
     "execution_count": 16,
     "metadata": {},
     "output_type": "execute_result"
    }
   ],
   "source": [
    "list(s) + [1]"
   ]
  },
  {
   "cell_type": "code",
   "execution_count": null,
   "id": "ab9af9c1-9733-4ab5-9029-c2b01ca8bf30",
   "metadata": {},
   "outputs": [],
   "source": []
  },
  {
   "cell_type": "code",
   "execution_count": 17,
   "id": "0b600c4b-d164-4904-97d6-698b5c9273ad",
   "metadata": {},
   "outputs": [
    {
     "data": {
      "text/plain": [
       "9"
      ]
     },
     "execution_count": 17,
     "metadata": {},
     "output_type": "execute_result"
    }
   ],
   "source": [
    "len(s)"
   ]
  },
  {
   "cell_type": "code",
   "execution_count": 18,
   "id": "b70cbb53-8f4e-4a3e-896d-f36715b759de",
   "metadata": {},
   "outputs": [],
   "source": [
    "s.append(5)"
   ]
  },
  {
   "cell_type": "code",
   "execution_count": 19,
   "id": "24d1e126-6a75-43ce-b24b-4518b92c042b",
   "metadata": {},
   "outputs": [
    {
     "data": {
      "text/plain": [
       "[1, 2, 3, (2+3j), True, False, 'Suraj', 'Shanu', 325, 5]"
      ]
     },
     "execution_count": 19,
     "metadata": {},
     "output_type": "execute_result"
    }
   ],
   "source": [
    "s"
   ]
  },
  {
   "cell_type": "code",
   "execution_count": 20,
   "id": "8257d396-5d96-4acb-b6e3-22828080c78b",
   "metadata": {},
   "outputs": [
    {
     "data": {
      "text/plain": [
       "[1, 2, 3, (2+3j), True, False, 'Suraj', 'Shanu', 325, 5]"
      ]
     },
     "execution_count": 20,
     "metadata": {},
     "output_type": "execute_result"
    }
   ],
   "source": [
    "s\n"
   ]
  },
  {
   "cell_type": "code",
   "execution_count": 21,
   "id": "34853d88-8adc-4092-9926-f931772e00bf",
   "metadata": {},
   "outputs": [
    {
     "data": {
      "text/plain": [
       "[1, 2, 3, (2+3j), True, False, 'Suraj', 'Shanu', 325, 5, 56]"
      ]
     },
     "execution_count": 21,
     "metadata": {},
     "output_type": "execute_result"
    }
   ],
   "source": [
    "s + [56]"
   ]
  },
  {
   "cell_type": "code",
   "execution_count": 22,
   "id": "25eafca4-70ab-4614-8143-d8ee0766334f",
   "metadata": {},
   "outputs": [
    {
     "data": {
      "text/plain": [
       "[1, 2, 3, (2+3j), True, False, 'Suraj', 'Shanu', 325, 5]"
      ]
     },
     "execution_count": 22,
     "metadata": {},
     "output_type": "execute_result"
    }
   ],
   "source": [
    "s"
   ]
  },
  {
   "cell_type": "code",
   "execution_count": 23,
   "id": "b3f470f8-d342-4903-b168-1fdcc5d5cb66",
   "metadata": {},
   "outputs": [],
   "source": [
    "s.append(v)"
   ]
  },
  {
   "cell_type": "code",
   "execution_count": 24,
   "id": "f7e5e246-2579-445a-80f5-185d2023921d",
   "metadata": {},
   "outputs": [
    {
     "data": {
      "text/plain": [
       "[1,\n",
       " 2,\n",
       " 3,\n",
       " (2+3j),\n",
       " True,\n",
       " False,\n",
       " 'Suraj',\n",
       " 'Shanu',\n",
       " 325,\n",
       " 5,\n",
       " [1, 2, 3, 4, 5, 6, 7, 8, 9]]"
      ]
     },
     "execution_count": 24,
     "metadata": {},
     "output_type": "execute_result"
    }
   ],
   "source": [
    "s"
   ]
  },
  {
   "cell_type": "code",
   "execution_count": 25,
   "id": "303a150e-d0a9-462a-9320-07cfd2db6e57",
   "metadata": {},
   "outputs": [
    {
     "data": {
      "text/plain": [
       "[1, 2, 3, 4, 5, 6, 7, 8, 9]"
      ]
     },
     "execution_count": 25,
     "metadata": {},
     "output_type": "execute_result"
    }
   ],
   "source": [
    "v"
   ]
  },
  {
   "cell_type": "code",
   "execution_count": 26,
   "id": "5459e53a-25b4-4f47-8177-85c8e1f326d2",
   "metadata": {},
   "outputs": [
    {
     "data": {
      "text/plain": [
       "[1,\n",
       " 2,\n",
       " 3,\n",
       " (2+3j),\n",
       " True,\n",
       " False,\n",
       " 'Suraj',\n",
       " 'Shanu',\n",
       " 325,\n",
       " 5,\n",
       " [1, 2, 3, 4, 5, 6, 7, 8, 9]]"
      ]
     },
     "execution_count": 26,
     "metadata": {},
     "output_type": "execute_result"
    }
   ],
   "source": [
    "s"
   ]
  },
  {
   "cell_type": "code",
   "execution_count": 27,
   "id": "48e10013-97ec-49bd-bfd8-03f1e4835531",
   "metadata": {},
   "outputs": [],
   "source": [
    "s.append(v)"
   ]
  },
  {
   "cell_type": "code",
   "execution_count": 28,
   "id": "5633f1a2-5452-4970-b95b-6be6d33afab8",
   "metadata": {},
   "outputs": [
    {
     "data": {
      "text/plain": [
       "[1,\n",
       " 2,\n",
       " 3,\n",
       " (2+3j),\n",
       " True,\n",
       " False,\n",
       " 'Suraj',\n",
       " 'Shanu',\n",
       " 325,\n",
       " 5,\n",
       " [1, 2, 3, 4, 5, 6, 7, 8, 9],\n",
       " [1, 2, 3, 4, 5, 6, 7, 8, 9]]"
      ]
     },
     "execution_count": 28,
     "metadata": {},
     "output_type": "execute_result"
    }
   ],
   "source": [
    "s"
   ]
  },
  {
   "cell_type": "code",
   "execution_count": 29,
   "id": "9bcafb33-edc8-428e-be28-4f09cdfd95ed",
   "metadata": {},
   "outputs": [],
   "source": [
    "f = [1,4,2,5,3, \"shanu\", 325.253]"
   ]
  },
  {
   "cell_type": "code",
   "execution_count": 30,
   "id": "57172b27-7b36-48de-ab83-ace325f02544",
   "metadata": {},
   "outputs": [
    {
     "data": {
      "text/plain": [
       "[1, 4, 2, 5, 3, 'shanu', 325.253]"
      ]
     },
     "execution_count": 30,
     "metadata": {},
     "output_type": "execute_result"
    }
   ],
   "source": [
    "f"
   ]
  },
  {
   "cell_type": "code",
   "execution_count": 31,
   "id": "478afb29-7907-4cca-bac4-c70752868a42",
   "metadata": {},
   "outputs": [],
   "source": [
    "e = [1,12,5,4,56]"
   ]
  },
  {
   "cell_type": "code",
   "execution_count": 32,
   "id": "fe85fabb-0668-472c-b9e5-ccc672f43f38",
   "metadata": {},
   "outputs": [
    {
     "data": {
      "text/plain": [
       "[1, 12, 5, 4, 56]"
      ]
     },
     "execution_count": 32,
     "metadata": {},
     "output_type": "execute_result"
    }
   ],
   "source": [
    "e"
   ]
  },
  {
   "cell_type": "code",
   "execution_count": 33,
   "id": "97bc0f69-61fe-4edb-8ae8-54b20c301c35",
   "metadata": {},
   "outputs": [],
   "source": [
    "f.append(e)"
   ]
  },
  {
   "cell_type": "code",
   "execution_count": 34,
   "id": "a6710313-8d4a-4204-8245-5e304f3cff64",
   "metadata": {},
   "outputs": [
    {
     "data": {
      "text/plain": [
       "[1, 4, 2, 5, 3, 'shanu', 325.253, [1, 12, 5, 4, 56]]"
      ]
     },
     "execution_count": 34,
     "metadata": {},
     "output_type": "execute_result"
    }
   ],
   "source": [
    "f"
   ]
  },
  {
   "cell_type": "code",
   "execution_count": 35,
   "id": "b42cbb3d-2a8a-4e0a-b2fc-dbbeaf95b69e",
   "metadata": {},
   "outputs": [],
   "source": [
    "s.append(v)"
   ]
  },
  {
   "cell_type": "code",
   "execution_count": 36,
   "id": "65d91a4e-4caa-4dc5-91cc-5ed3f5623777",
   "metadata": {},
   "outputs": [
    {
     "data": {
      "text/plain": [
       "[1,\n",
       " 2,\n",
       " 3,\n",
       " (2+3j),\n",
       " True,\n",
       " False,\n",
       " 'Suraj',\n",
       " 'Shanu',\n",
       " 325,\n",
       " 5,\n",
       " [1, 2, 3, 4, 5, 6, 7, 8, 9],\n",
       " [1, 2, 3, 4, 5, 6, 7, 8, 9],\n",
       " [1, 2, 3, 4, 5, 6, 7, 8, 9]]"
      ]
     },
     "execution_count": 36,
     "metadata": {},
     "output_type": "execute_result"
    }
   ],
   "source": [
    "s"
   ]
  },
  {
   "cell_type": "code",
   "execution_count": 37,
   "id": "320e692e-24a7-4cbb-9a87-1d39ac1ae0df",
   "metadata": {},
   "outputs": [
    {
     "data": {
      "text/plain": [
       "[1, 2, 3, 4, 5, 6, 7, 8, 9]"
      ]
     },
     "execution_count": 37,
     "metadata": {},
     "output_type": "execute_result"
    }
   ],
   "source": [
    "v"
   ]
  },
  {
   "cell_type": "code",
   "execution_count": 38,
   "id": "bc4d9525-b418-4ca7-b103-b0eb8ea6634d",
   "metadata": {},
   "outputs": [],
   "source": [
    "s.append(v)"
   ]
  },
  {
   "cell_type": "code",
   "execution_count": 39,
   "id": "af6aba5b-40d4-40ab-b36f-a4f5d24c25e1",
   "metadata": {},
   "outputs": [
    {
     "data": {
      "text/plain": [
       "[1,\n",
       " 2,\n",
       " 3,\n",
       " (2+3j),\n",
       " True,\n",
       " False,\n",
       " 'Suraj',\n",
       " 'Shanu',\n",
       " 325,\n",
       " 5,\n",
       " [1, 2, 3, 4, 5, 6, 7, 8, 9],\n",
       " [1, 2, 3, 4, 5, 6, 7, 8, 9],\n",
       " [1, 2, 3, 4, 5, 6, 7, 8, 9],\n",
       " [1, 2, 3, 4, 5, 6, 7, 8, 9]]"
      ]
     },
     "execution_count": 39,
     "metadata": {},
     "output_type": "execute_result"
    }
   ],
   "source": [
    "s"
   ]
  },
  {
   "cell_type": "code",
   "execution_count": 40,
   "id": "f4d90384-b339-4107-9159-a0a8eaa831ef",
   "metadata": {},
   "outputs": [],
   "source": [
    "f.extend(\"luliya mange le luliya ka maange le\")"
   ]
  },
  {
   "cell_type": "code",
   "execution_count": 41,
   "id": "a066f3a6-602d-48ec-a986-2011edb301c2",
   "metadata": {},
   "outputs": [
    {
     "data": {
      "text/plain": [
       "[1,\n",
       " 4,\n",
       " 2,\n",
       " 5,\n",
       " 3,\n",
       " 'shanu',\n",
       " 325.253,\n",
       " [1, 12, 5, 4, 56],\n",
       " 'l',\n",
       " 'u',\n",
       " 'l',\n",
       " 'i',\n",
       " 'y',\n",
       " 'a',\n",
       " ' ',\n",
       " 'm',\n",
       " 'a',\n",
       " 'n',\n",
       " 'g',\n",
       " 'e',\n",
       " ' ',\n",
       " 'l',\n",
       " 'e',\n",
       " ' ',\n",
       " 'l',\n",
       " 'u',\n",
       " 'l',\n",
       " 'i',\n",
       " 'y',\n",
       " 'a',\n",
       " ' ',\n",
       " 'k',\n",
       " 'a',\n",
       " ' ',\n",
       " 'm',\n",
       " 'a',\n",
       " 'a',\n",
       " 'n',\n",
       " 'g',\n",
       " 'e',\n",
       " ' ',\n",
       " 'l',\n",
       " 'e']"
      ]
     },
     "execution_count": 41,
     "metadata": {},
     "output_type": "execute_result"
    }
   ],
   "source": [
    "f"
   ]
  },
  {
   "cell_type": "code",
   "execution_count": 42,
   "id": "414dfdd3-a811-4629-b5f8-623a0e1b678f",
   "metadata": {},
   "outputs": [
    {
     "data": {
      "text/plain": [
       "[1, 12, 5, 4, 56]"
      ]
     },
     "execution_count": 42,
     "metadata": {},
     "output_type": "execute_result"
    }
   ],
   "source": [
    "e"
   ]
  },
  {
   "cell_type": "code",
   "execution_count": 43,
   "id": "4c9bf1ef-ed65-4a44-b0fd-e69fd28899d9",
   "metadata": {},
   "outputs": [],
   "source": [
    "e.insert(2,2)"
   ]
  },
  {
   "cell_type": "code",
   "execution_count": 44,
   "id": "72a37807-bcaf-4436-a376-f264382bb4b8",
   "metadata": {},
   "outputs": [
    {
     "data": {
      "text/plain": [
       "[1, 12, 2, 5, 4, 56]"
      ]
     },
     "execution_count": 44,
     "metadata": {},
     "output_type": "execute_result"
    }
   ],
   "source": [
    "e"
   ]
  },
  {
   "cell_type": "code",
   "execution_count": 45,
   "id": "9b74d3f3-8fbc-4f3b-bc22-1af1d8e0dfd1",
   "metadata": {},
   "outputs": [],
   "source": [
    "e.remove(12)\n"
   ]
  },
  {
   "cell_type": "code",
   "execution_count": 46,
   "id": "ca14964a-5eba-4a72-bbce-c6578a3d23c7",
   "metadata": {},
   "outputs": [
    {
     "data": {
      "text/plain": [
       "[1, 2, 5, 4, 56]"
      ]
     },
     "execution_count": 46,
     "metadata": {},
     "output_type": "execute_result"
    }
   ],
   "source": [
    "e"
   ]
  },
  {
   "cell_type": "code",
   "execution_count": 47,
   "id": "a991257f-135b-44ef-ae7e-4db061474953",
   "metadata": {},
   "outputs": [
    {
     "data": {
      "text/plain": [
       "2"
      ]
     },
     "execution_count": 47,
     "metadata": {},
     "output_type": "execute_result"
    }
   ],
   "source": [
    "e.pop(1)"
   ]
  },
  {
   "cell_type": "code",
   "execution_count": 48,
   "id": "7ee16acb-911c-4774-8feb-ba4ca4e2297d",
   "metadata": {},
   "outputs": [
    {
     "data": {
      "text/plain": [
       "[1, 5, 4, 56]"
      ]
     },
     "execution_count": 48,
     "metadata": {},
     "output_type": "execute_result"
    }
   ],
   "source": [
    "e"
   ]
  },
  {
   "cell_type": "code",
   "execution_count": 49,
   "id": "0d17d1b0-9777-4fa2-9fc4-6a5607af3e26",
   "metadata": {},
   "outputs": [],
   "source": [
    "e.reverse()"
   ]
  },
  {
   "cell_type": "code",
   "execution_count": 50,
   "id": "0f4c79ed-a239-4d65-8db5-0e4c657ae6c2",
   "metadata": {},
   "outputs": [
    {
     "data": {
      "text/plain": [
       "[56, 4, 5, 1]"
      ]
     },
     "execution_count": 50,
     "metadata": {},
     "output_type": "execute_result"
    }
   ],
   "source": [
    "e"
   ]
  },
  {
   "cell_type": "code",
   "execution_count": 51,
   "id": "6e2437c6-0ccf-432e-b6ce-23cdc5a84d00",
   "metadata": {},
   "outputs": [
    {
     "data": {
      "text/plain": [
       "[56, 4, 5, 1]"
      ]
     },
     "execution_count": 51,
     "metadata": {},
     "output_type": "execute_result"
    }
   ],
   "source": [
    "e"
   ]
  },
  {
   "cell_type": "code",
   "execution_count": 52,
   "id": "a62cd72c-e1f8-4b2c-a3eb-05b8bf57961b",
   "metadata": {},
   "outputs": [
    {
     "data": {
      "text/plain": [
       "[1, 5, 4, 56]"
      ]
     },
     "execution_count": 52,
     "metadata": {},
     "output_type": "execute_result"
    }
   ],
   "source": [
    "e[::-1] #Slicer me jump karne se naya data banta hai - purana data change nahi hota "
   ]
  },
  {
   "cell_type": "code",
   "execution_count": 53,
   "id": "1d14f53a-33a9-4d0b-8d24-e6c2d9d6b386",
   "metadata": {},
   "outputs": [
    {
     "data": {
      "text/plain": [
       "[56, 4, 5, 1]"
      ]
     },
     "execution_count": 53,
     "metadata": {},
     "output_type": "execute_result"
    }
   ],
   "source": [
    "e"
   ]
  },
  {
   "cell_type": "code",
   "execution_count": 54,
   "id": "e2b3eec4-d7c2-4657-b98c-3ba4e2b6935a",
   "metadata": {},
   "outputs": [],
   "source": [
    "e.clear()"
   ]
  },
  {
   "cell_type": "code",
   "execution_count": 55,
   "id": "40ce1f71-a7b5-4249-ab79-48e4221d8358",
   "metadata": {},
   "outputs": [],
   "source": [
    "e = [1,2,3,4,5,6,456,65654,'hello','lelo',1+2j,True,False]"
   ]
  },
  {
   "cell_type": "code",
   "execution_count": null,
   "id": "97a5cff4-2ae8-4975-8ebe-602904c94b55",
   "metadata": {},
   "outputs": [],
   "source": []
  },
  {
   "cell_type": "code",
   "execution_count": 56,
   "id": "6c1b0e2a-b533-419c-a800-61e0b983692e",
   "metadata": {},
   "outputs": [
    {
     "data": {
      "text/plain": [
       "1"
      ]
     },
     "execution_count": 56,
     "metadata": {},
     "output_type": "execute_result"
    }
   ],
   "source": [
    "e.index(2)"
   ]
  },
  {
   "cell_type": "code",
   "execution_count": 57,
   "id": "620163e8-c18b-4b0e-8400-80b6fa1f92d3",
   "metadata": {},
   "outputs": [
    {
     "data": {
      "text/plain": [
       "[1, 2, 3, 4, 5, 6, 456, 65654, 'hello', 'lelo', (1+2j), True, False]"
      ]
     },
     "execution_count": 57,
     "metadata": {},
     "output_type": "execute_result"
    }
   ],
   "source": [
    "e.copy()\n"
   ]
  },
  {
   "cell_type": "code",
   "execution_count": null,
   "id": "673eb284-205a-4900-8af2-0d7d6d94fec7",
   "metadata": {},
   "outputs": [],
   "source": []
  },
  {
   "cell_type": "code",
   "execution_count": 58,
   "id": "53acff96-3436-4134-a77f-3241267e9239",
   "metadata": {},
   "outputs": [
    {
     "data": {
      "text/plain": [
       "1"
      ]
     },
     "execution_count": 58,
     "metadata": {},
     "output_type": "execute_result"
    }
   ],
   "source": [
    "e.count(2)"
   ]
  },
  {
   "cell_type": "code",
   "execution_count": 59,
   "id": "9d830868-6d09-41b8-b52e-0d648b18b86a",
   "metadata": {},
   "outputs": [
    {
     "ename": "TypeError",
     "evalue": "'<' not supported between instances of 'str' and 'int'",
     "output_type": "error",
     "traceback": [
      "\u001b[0;31m---------------------------------------------------------------------------\u001b[0m",
      "\u001b[0;31mTypeError\u001b[0m                                 Traceback (most recent call last)",
      "Cell \u001b[0;32mIn [59], line 1\u001b[0m\n\u001b[0;32m----> 1\u001b[0m \u001b[43me\u001b[49m\u001b[38;5;241;43m.\u001b[39;49m\u001b[43msort\u001b[49m\u001b[43m(\u001b[49m\u001b[43m)\u001b[49m\n",
      "\u001b[0;31mTypeError\u001b[0m: '<' not supported between instances of 'str' and 'int'"
     ]
    }
   ],
   "source": [
    "e.sort() # sort tabhi kaam karta hai jab list ke andar ki sabhi value type ek hongi\n"
   ]
  },
  {
   "cell_type": "code",
   "execution_count": null,
   "id": "ad51082d-5aef-43da-ab53-da4bcbe0b9c0",
   "metadata": {},
   "outputs": [],
   "source": [
    "f = [2,10,0,56]"
   ]
  },
  {
   "cell_type": "code",
   "execution_count": null,
   "id": "8d40f65b-266d-456e-bbe0-5e9f2c2d7684",
   "metadata": {},
   "outputs": [],
   "source": [
    "f.sort()"
   ]
  },
  {
   "cell_type": "code",
   "execution_count": null,
   "id": "1889c024-b368-4011-838f-09aef9747ae7",
   "metadata": {},
   "outputs": [],
   "source": [
    "f"
   ]
  },
  {
   "cell_type": "code",
   "execution_count": null,
   "id": "c0a87657-e765-414c-9de7-43b2878d4fcc",
   "metadata": {},
   "outputs": [],
   "source": [
    "e.extend('True')"
   ]
  },
  {
   "cell_type": "code",
   "execution_count": null,
   "id": "ecad2351-6cb0-4828-83e7-6b3529bd3b6f",
   "metadata": {},
   "outputs": [],
   "source": [
    "e"
   ]
  },
  {
   "cell_type": "code",
   "execution_count": null,
   "id": "1d041e54-48f7-45bc-9ce2-28b37d499844",
   "metadata": {},
   "outputs": [],
   "source": [
    "e = [1,2,3,4,5,6,456,65654,'hello','lelo',1+2j,True,False]"
   ]
  },
  {
   "cell_type": "code",
   "execution_count": null,
   "id": "47e8628e-97df-4e96-ba33-eabe83b95358",
   "metadata": {},
   "outputs": [],
   "source": [
    "e.insert(2,4)"
   ]
  },
  {
   "cell_type": "code",
   "execution_count": null,
   "id": "610b9545-375f-4784-bd6f-3fe29997c97e",
   "metadata": {},
   "outputs": [],
   "source": [
    "e"
   ]
  },
  {
   "cell_type": "code",
   "execution_count": null,
   "id": "4a87ef9d-767a-4386-8ccc-f7aa29c5b78e",
   "metadata": {},
   "outputs": [],
   "source": [
    "e.pop(2)"
   ]
  },
  {
   "cell_type": "code",
   "execution_count": null,
   "id": "4a2f73b3-148d-4182-ad28-eeb5e96bbc67",
   "metadata": {},
   "outputs": [],
   "source": [
    "e"
   ]
  },
  {
   "cell_type": "code",
   "execution_count": null,
   "id": "6021c025-e9e9-4b1d-b69a-f9f600cf8070",
   "metadata": {},
   "outputs": [],
   "source": [
    "e.remove(2)"
   ]
  },
  {
   "cell_type": "code",
   "execution_count": null,
   "id": "5cb30f37-ef2d-4849-97f5-2206884920cd",
   "metadata": {},
   "outputs": [],
   "source": [
    "e"
   ]
  },
  {
   "cell_type": "code",
   "execution_count": null,
   "id": "6276194a-930d-4f7b-b7c5-b153cee64b46",
   "metadata": {},
   "outputs": [],
   "source": [
    "n = (1,2,3,4,5,6,7,8,9)"
   ]
  },
  {
   "cell_type": "code",
   "execution_count": null,
   "id": "7e26abc3-7b4a-4825-920c-c2b7466e91e0",
   "metadata": {},
   "outputs": [],
   "source": [
    "type(n)"
   ]
  },
  {
   "cell_type": "code",
   "execution_count": null,
   "id": "129c0510-284e-4686-b3a6-a572b75ffd99",
   "metadata": {},
   "outputs": [],
   "source": [
    "n.count(1)"
   ]
  },
  {
   "cell_type": "code",
   "execution_count": null,
   "id": "216a4def-93ea-43d5-a5d4-29f756a2ae71",
   "metadata": {},
   "outputs": [],
   "source": []
  },
  {
   "cell_type": "code",
   "execution_count": null,
   "id": "b22b4c7a-2dd6-46e3-88a9-3e1493446b99",
   "metadata": {},
   "outputs": [],
   "source": [
    "n.index(8)"
   ]
  },
  {
   "cell_type": "code",
   "execution_count": null,
   "id": "244aa3a0-ba41-40ec-a44a-5bb245b42430",
   "metadata": {},
   "outputs": [],
   "source": [
    "p = {1,2,3,4,56,7,9,9}"
   ]
  },
  {
   "cell_type": "code",
   "execution_count": null,
   "id": "428c944b-f210-4734-ba75-d3621815c238",
   "metadata": {},
   "outputs": [],
   "source": [
    "type(p)"
   ]
  },
  {
   "cell_type": "code",
   "execution_count": null,
   "id": "141f0f70-cfb5-4d98-8a44-b0848a5abbf1",
   "metadata": {},
   "outputs": [],
   "source": [
    "p.add(2)"
   ]
  },
  {
   "cell_type": "code",
   "execution_count": null,
   "id": "18547d03-f375-4be1-a3e5-50669cf46608",
   "metadata": {},
   "outputs": [],
   "source": [
    "p"
   ]
  },
  {
   "cell_type": "code",
   "execution_count": null,
   "id": "ac721439-21fe-40e9-968e-a6735e2b0b6d",
   "metadata": {},
   "outputs": [],
   "source": [
    "p.add(15)"
   ]
  },
  {
   "cell_type": "code",
   "execution_count": null,
   "id": "624f38e1-cf2f-4198-ba3e-b7c696c9dd27",
   "metadata": {},
   "outputs": [],
   "source": [
    "p"
   ]
  },
  {
   "cell_type": "code",
   "execution_count": null,
   "id": "e1f66367-025e-4b3a-8788-13b6b44e0c1f",
   "metadata": {},
   "outputs": [],
   "source": [
    "p.copy() \n"
   ]
  },
  {
   "cell_type": "code",
   "execution_count": null,
   "id": "0f66a7de-5321-4854-82b5-0779a81aedea",
   "metadata": {},
   "outputs": [],
   "source": [
    "p.difference('h')"
   ]
  },
  {
   "cell_type": "code",
   "execution_count": null,
   "id": "c2d463ef-dc18-4368-a310-8d82ee6cae20",
   "metadata": {},
   "outputs": [],
   "source": [
    "p"
   ]
  },
  {
   "cell_type": "code",
   "execution_count": null,
   "id": "fa5d3765-76ff-41cc-849a-364ae83fdf4d",
   "metadata": {},
   "outputs": [],
   "source": [
    "m = {1,1,1,2,3,3,3,4,5,6,6,8,9}"
   ]
  },
  {
   "cell_type": "code",
   "execution_count": null,
   "id": "963f28c9-8e07-4055-9d8a-8df410995030",
   "metadata": {},
   "outputs": [],
   "source": [
    "m"
   ]
  },
  {
   "cell_type": "code",
   "execution_count": null,
   "id": "e7e28bfe-5410-4b3c-8611-fae8e19876af",
   "metadata": {},
   "outputs": [],
   "source": [
    "m.add(156)"
   ]
  },
  {
   "cell_type": "code",
   "execution_count": null,
   "id": "9465d684-6f77-4111-b459-4c784ac757e4",
   "metadata": {},
   "outputs": [],
   "source": [
    "m"
   ]
  },
  {
   "cell_type": "code",
   "execution_count": null,
   "id": "f8c06f19-91e1-4e74-95b8-7f775712eb37",
   "metadata": {},
   "outputs": [],
   "source": [
    "m.difference()"
   ]
  },
  {
   "cell_type": "code",
   "execution_count": 61,
   "id": "f42addcf-e42d-48b6-9b90-4727c079b728",
   "metadata": {},
   "outputs": [],
   "source": [
    "l = {1,1,1,12,2,2,3,36,5,4,9,74,80,80}"
   ]
  },
  {
   "cell_type": "code",
   "execution_count": null,
   "id": "a3995d43-478f-4ed8-a430-e4cd558f2969",
   "metadata": {},
   "outputs": [],
   "source": [
    "l"
   ]
  },
  {
   "cell_type": "code",
   "execution_count": null,
   "id": "68c5fd9e-12d6-496c-85d5-4d2fe56c7e3e",
   "metadata": {},
   "outputs": [],
   "source": [
    "l.difference_update()\n",
    "m.difference_update()"
   ]
  },
  {
   "cell_type": "code",
   "execution_count": null,
   "id": "089d8925-2a4f-4101-a2b3-5cea698f1bb7",
   "metadata": {},
   "outputs": [],
   "source": [
    "m"
   ]
  },
  {
   "cell_type": "code",
   "execution_count": null,
   "id": "00a5b1bb-c721-470c-91b7-1e8394e7c8c6",
   "metadata": {},
   "outputs": [],
   "source": [
    "l"
   ]
  },
  {
   "cell_type": "code",
   "execution_count": 62,
   "id": "decd4cf1-be4f-4613-8747-e1c5a741ea60",
   "metadata": {},
   "outputs": [
    {
     "data": {
      "text/plain": [
       "{1, 2, 3, 4, 5, 9, 12, 36, 74, 80}"
      ]
     },
     "execution_count": 62,
     "metadata": {},
     "output_type": "execute_result"
    }
   ],
   "source": [
    "l"
   ]
  },
  {
   "cell_type": "code",
   "execution_count": 95,
   "id": "fe936281-887f-4f94-b4a9-ca665329720c",
   "metadata": {},
   "outputs": [],
   "source": [
    "g = (5, 1, 2, 3, True, False, ('hello'))\n"
   ]
  },
  {
   "cell_type": "code",
   "execution_count": 96,
   "id": "4bdb37b3-f285-40b4-a3e6-d88cf48506db",
   "metadata": {},
   "outputs": [
    {
     "data": {
      "text/plain": [
       "1"
      ]
     },
     "execution_count": 96,
     "metadata": {},
     "output_type": "execute_result"
    }
   ],
   "source": [
    "g.index(True)"
   ]
  },
  {
   "cell_type": "code",
   "execution_count": 104,
   "id": "113d24b3-cfb6-470b-bbd7-22473c3a2e81",
   "metadata": {},
   "outputs": [],
   "source": [
    "T = (5,6,True,5,8, False)"
   ]
  },
  {
   "cell_type": "code",
   "execution_count": 106,
   "id": "155586dc-50f3-4f9a-bcaf-482df4f48267",
   "metadata": {},
   "outputs": [
    {
     "data": {
      "text/plain": [
       "2"
      ]
     },
     "execution_count": 106,
     "metadata": {},
     "output_type": "execute_result"
    }
   ],
   "source": [
    "T.index(True)"
   ]
  },
  {
   "cell_type": "code",
   "execution_count": 114,
   "id": "560e1100-fb85-41a4-a610-abab91ebb4ae",
   "metadata": {},
   "outputs": [],
   "source": [
    "h = {}"
   ]
  },
  {
   "cell_type": "code",
   "execution_count": 115,
   "id": "f69de25f-2a58-43b9-ab18-95daffa0707f",
   "metadata": {},
   "outputs": [
    {
     "data": {
      "text/plain": [
       "dict"
      ]
     },
     "execution_count": 115,
     "metadata": {},
     "output_type": "execute_result"
    }
   ],
   "source": [
    "type(h)"
   ]
  },
  {
   "cell_type": "code",
   "execution_count": 116,
   "id": "0cb639a7-c487-4124-ac76-6fbd6079395e",
   "metadata": {},
   "outputs": [],
   "source": [
    "s1 = {1,2,3,4,6,8,9}"
   ]
  },
  {
   "cell_type": "code",
   "execution_count": 117,
   "id": "e7420652-0903-4de6-a489-461ba5c810d8",
   "metadata": {},
   "outputs": [],
   "source": [
    "s1 = {(T), 1,2,3,4,8,5}\n"
   ]
  },
  {
   "cell_type": "code",
   "execution_count": 118,
   "id": "27c866d8-debf-4296-af7f-d3a28aea07a5",
   "metadata": {},
   "outputs": [
    {
     "data": {
      "text/plain": [
       "{(5, 6, True, 5, 8, False), 1, 2, 3, 4, 5, 8}"
      ]
     },
     "execution_count": 118,
     "metadata": {},
     "output_type": "execute_result"
    }
   ],
   "source": [
    "s1\n"
   ]
  },
  {
   "cell_type": "code",
   "execution_count": 120,
   "id": "0d1581a5-e6cd-4651-8cc7-251a803aeda9",
   "metadata": {},
   "outputs": [
    {
     "ename": "TypeError",
     "evalue": "'set' object is not callable",
     "output_type": "error",
     "traceback": [
      "\u001b[0;31m---------------------------------------------------------------------------\u001b[0m",
      "\u001b[0;31mTypeError\u001b[0m                                 Traceback (most recent call last)",
      "Cell \u001b[0;32mIn [120], line 1\u001b[0m\n\u001b[0;32m----> 1\u001b[0m \u001b[43ms1\u001b[49m\u001b[43m(\u001b[49m\u001b[43m(\u001b[49m\u001b[38;5;241;43m1\u001b[39;49m\u001b[43m)\u001b[49m\u001b[43m)\u001b[49m\n",
      "\u001b[0;31mTypeError\u001b[0m: 'set' object is not callable"
     ]
    }
   ],
   "source": [
    "s1((1))"
   ]
  },
  {
   "cell_type": "code",
   "execution_count": 1,
   "id": "c5b8ca3c-a022-4f15-9358-82f09898f060",
   "metadata": {},
   "outputs": [],
   "source": [
    "k = ['hello']"
   ]
  },
  {
   "cell_type": "code",
   "execution_count": 6,
   "id": "8bfd3567-642e-4dbb-b37c-2490302a7f90",
   "metadata": {},
   "outputs": [],
   "source": [
    "u1 = []\n",
    "for i in k :\n",
    "    u1.append(i.capitalize())"
   ]
  },
  {
   "cell_type": "code",
   "execution_count": 7,
   "id": "014001b1-5ebb-4eb7-883d-92f6cef6a43d",
   "metadata": {},
   "outputs": [
    {
     "data": {
      "text/plain": [
       "['Hello']"
      ]
     },
     "execution_count": 7,
     "metadata": {},
     "output_type": "execute_result"
    }
   ],
   "source": [
    "u1"
   ]
  },
  {
   "cell_type": "code",
   "execution_count": 8,
   "id": "6cbdacbd-95ca-4253-a1f2-34e63ad95478",
   "metadata": {},
   "outputs": [],
   "source": [
    "u1 = []\n",
    "for i in k :\n",
    "    u1.append(i.upper())"
   ]
  },
  {
   "cell_type": "code",
   "execution_count": 9,
   "id": "2fcaed60-78ab-4cbc-a02b-bca1a08150d4",
   "metadata": {},
   "outputs": [
    {
     "data": {
      "text/plain": [
       "['HELLO']"
      ]
     },
     "execution_count": 9,
     "metadata": {},
     "output_type": "execute_result"
    }
   ],
   "source": [
    "u1"
   ]
  },
  {
   "cell_type": "code",
   "execution_count": 14,
   "id": "b9e88e7f-db37-40f1-a24a-09610b7cbb81",
   "metadata": {},
   "outputs": [],
   "source": [
    "l = [1,2,3,4,56,'sudh','shnu', 1+2j, 345,569]"
   ]
  },
  {
   "cell_type": "code",
   "execution_count": 46,
   "id": "e3a20eaf-067b-4bb4-bf5d-66b54a2c08c2",
   "metadata": {},
   "outputs": [
    {
     "name": "stdout",
     "output_type": "stream",
     "text": [
      "[1, 2, 3, 4, 56, 345, 569]\n",
      "['sudh', 'shnu']\n",
      "[(1+2j)]\n"
     ]
    }
   ],
   "source": [
    "l1 = []\n",
    "l2 = []\n",
    "l3 = []\n",
    "for i in l :\n",
    "    if type(i) == int or type(i) == float :\n",
    "        \n",
    "        (l1.append(i))\n",
    "        \n",
    "    elif type(i) == complex :\n",
    "        (l3.append(i))\n",
    "    \n",
    "    \n",
    "    else :\n",
    "        (l2.append(i))\n",
    "        \n",
    "print(l1)\n",
    "print(l2)\n",
    "print(l3)\n",
    "     \n",
    "\n",
    "        \n",
    "\n",
    "\n",
    "    \n",
    "    "
   ]
  },
  {
   "cell_type": "code",
   "execution_count": 39,
   "id": "f6f56ddb-f6ac-4c5a-9f37-bfa98446cfe3",
   "metadata": {},
   "outputs": [
    {
     "data": {
      "text/plain": [
       "[(1+2j)]"
      ]
     },
     "execution_count": 39,
     "metadata": {},
     "output_type": "execute_result"
    }
   ],
   "source": [
    "l3"
   ]
  },
  {
   "cell_type": "code",
   "execution_count": 31,
   "id": "787e32b3-a62f-4901-bfa2-98c70a4ad421",
   "metadata": {},
   "outputs": [
    {
     "data": {
      "text/plain": [
       "[1, 2, 3, 4, 56, 345, 569]"
      ]
     },
     "execution_count": 31,
     "metadata": {},
     "output_type": "execute_result"
    }
   ],
   "source": [
    "l1"
   ]
  },
  {
   "cell_type": "code",
   "execution_count": 32,
   "id": "d42f7b84-6495-44b6-ad40-468d2d449e80",
   "metadata": {},
   "outputs": [
    {
     "data": {
      "text/plain": [
       "['sudh', 'shnu', (1+2j)]"
      ]
     },
     "execution_count": 32,
     "metadata": {},
     "output_type": "execute_result"
    }
   ],
   "source": [
    "l2"
   ]
  },
  {
   "cell_type": "code",
   "execution_count": 20,
   "id": "ab446266-c65a-4734-a40a-50698fdd2f2e",
   "metadata": {},
   "outputs": [
    {
     "data": {
      "text/plain": [
       "569"
      ]
     },
     "execution_count": 20,
     "metadata": {},
     "output_type": "execute_result"
    }
   ],
   "source": [
    "i"
   ]
  },
  {
   "cell_type": "code",
   "execution_count": 16,
   "id": "52adfe05-a834-414a-8eaa-5868dcbd5525",
   "metadata": {},
   "outputs": [
    {
     "data": {
      "text/plain": [
       "[1, 2, 3, 4, 56, 'sudh', 'shnu', (1+2j), 345, 569]"
      ]
     },
     "execution_count": 16,
     "metadata": {},
     "output_type": "execute_result"
    }
   ],
   "source": [
    "l1"
   ]
  },
  {
   "cell_type": "code",
   "execution_count": 17,
   "id": "d274b9e8-2edf-4a02-8570-f7322f114615",
   "metadata": {},
   "outputs": [
    {
     "data": {
      "text/plain": [
       "[1, 2, 3, 4, 56, 'sudh', 'shnu', (1+2j), 345, 569]"
      ]
     },
     "execution_count": 17,
     "metadata": {},
     "output_type": "execute_result"
    }
   ],
   "source": [
    "l2"
   ]
  }
 ],
 "metadata": {
  "kernelspec": {
   "display_name": "Python 3 (ipykernel)",
   "language": "python",
   "name": "python3"
  },
  "language_info": {
   "codemirror_mode": {
    "name": "ipython",
    "version": 3
   },
   "file_extension": ".py",
   "mimetype": "text/x-python",
   "name": "python",
   "nbconvert_exporter": "python",
   "pygments_lexer": "ipython3",
   "version": "3.10.6"
  }
 },
 "nbformat": 4,
 "nbformat_minor": 5
}
